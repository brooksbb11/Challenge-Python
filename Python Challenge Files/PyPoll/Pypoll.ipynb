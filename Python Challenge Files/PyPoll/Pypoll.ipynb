{
 "cells": [
  {
   "cell_type": "code",
   "execution_count": 40,
   "id": "f4c0bade",
   "metadata": {},
   "outputs": [],
   "source": [
    "#Modules\n",
    "import os \n",
    "import csv"
   ]
  },
  {
   "cell_type": "code",
   "execution_count": 41,
   "id": "cf472e43",
   "metadata": {},
   "outputs": [],
   "source": [
    "#Import data \n",
    "election_data = os.path.join(\"Resources/election_data.csv\")"
   ]
  },
  {
   "cell_type": "code",
   "execution_count": 42,
   "id": "5204a5d9",
   "metadata": {},
   "outputs": [],
   "source": [
    "#Set Variables\n",
    "total_votes= 0\n",
    "cand_opt = []\n",
    "candidate_vote_percentage = []\n",
    "total_votes_candidates = {}\n",
    "winning_candidate=\"\"\n",
    "winning_count= 0\n",
    "winning_percentage= 0"
   ]
  },
  {
   "cell_type": "code",
   "execution_count": 43,
   "id": "455580b6",
   "metadata": {},
   "outputs": [],
   "source": [
    "#open and read csv\n",
    "with open(election_data)as csvfile:\n",
    "    csvreader=csv.reader(csvfile, delimiter = \",\")\n",
    "#print each row for csv\n",
    "    for row in csvreader:\n",
    "        total_votes += 1\n",
    "        candidate_name = row[2]\n",
    "        \n",
    "        #find candidate and vote count \n",
    "        if candidate_name not in cand_opt:\n",
    "            cand_opt.append(candidate_name)\n",
    "            \n",
    "            total_votes_candidates[candidate_name]=0\n",
    "            \n",
    "            total_votes_candidates[candidate_name] += 1\n",
    "            \n",
    "            \n",
    "            "
   ]
  },
  {
   "cell_type": "code",
   "execution_count": 44,
   "id": "a37f90c3",
   "metadata": {},
   "outputs": [],
   "source": [
    "#set variable for output file\n",
    "\n",
    "output_file = os.path.join(\"analysis\",\"election_analysis.txt\")\n",
    "\n"
   ]
  },
  {
   "cell_type": "code",
   "execution_count": 47,
   "id": "fc6e311e",
   "metadata": {},
   "outputs": [
    {
     "name": "stdout",
     "output_type": "stream",
     "text": [
      "Election Results\n",
      "---------------------\n",
      "Total Votes: 369712\n",
      "-------------------------\n",
      "Candidate:0.0% (1)\n",
      "\n",
      "Charles Casper Stockham:0.0% (1)\n",
      "\n",
      "Diana DeGette:0.0% (1)\n",
      "\n",
      "Raymon Anthony Doane:0.0% (1)\n",
      "\n"
     ]
    }
   ],
   "source": [
    "#print the final vote count \n",
    "with open(output_file, \"w\")as txt_file:\n",
    "    election_results =(\n",
    "        f\"Election Results\\n\"\n",
    "        f\"---------------------\\n\"\n",
    "        f\"Total Votes: {total_votes:}\\n\"\n",
    "        f\"-------------------------\\n\"\n",
    "    )\n",
    "    \n",
    "    print(election_results, end =\"\")\n",
    "    \n",
    "    txt_file.write(election_results)\n",
    "    \n",
    "    for candidate_name in total_votes_candidates:\n",
    "        votes = total_votes_candidates[candidate_name]\n",
    "        candidate_vote_percentage = float(votes) / float(total_votes)* 100\n",
    "        candidate_results = f\"{candidate_name}:{candidate_vote_percentage:.1f}% ({votes:})\\n\"\n",
    "        \n",
    "        print(candidate_results)\n",
    "        \n",
    "        txt_file.write(candidate_results)\n",
    "        \n",
    "        if (votes > winning_count) and (candidate_vote_percentage > winning_percentage):\n",
    "            winning_counts = votes\n",
    "            winning_candidate = candidate_name\n",
    "            winning_percentage = candidate_vote_percentage\n",
    "            \n",
    "            winning_candidate_summary= (\n",
    "                f\"---------------------\\n\"  \n",
    "                f\"Winner: {winning_candidate}\\n\"\n",
    "                f\"Winning Vote Count:{winning_count:}\\n\"\n",
    "                f\"Winning Percentage:{winning_percentage:.1f}%\\n\"\n",
    "                f\"-------------------------\\n\"\n",
    "            )\n",
    "            \n",
    "            print(winning_candidate_summary)\n",
    "            txt_file.write(winning_candidate_summary)"
   ]
  },
  {
   "cell_type": "code",
   "execution_count": null,
   "id": "24ac6693",
   "metadata": {},
   "outputs": [],
   "source": []
  },
  {
   "cell_type": "code",
   "execution_count": null,
   "id": "d89c8ce1",
   "metadata": {},
   "outputs": [],
   "source": []
  }
 ],
 "metadata": {
  "kernelspec": {
   "display_name": "Python 3 (ipykernel)",
   "language": "python",
   "name": "python3"
  },
  "language_info": {
   "codemirror_mode": {
    "name": "ipython",
    "version": 3
   },
   "file_extension": ".py",
   "mimetype": "text/x-python",
   "name": "python",
   "nbconvert_exporter": "python",
   "pygments_lexer": "ipython3",
   "version": "3.9.13"
  }
 },
 "nbformat": 4,
 "nbformat_minor": 5
}
