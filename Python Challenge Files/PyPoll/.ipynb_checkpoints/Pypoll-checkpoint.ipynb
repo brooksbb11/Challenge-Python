{
 "cells": [
  {
   "cell_type": "code",
   "execution_count": 79,
   "id": "f4c0bade",
   "metadata": {},
   "outputs": [],
   "source": [
    "import os \n",
    "import csv"
   ]
  },
  {
   "cell_type": "code",
   "execution_count": 80,
   "id": "cf472e43",
   "metadata": {},
   "outputs": [],
   "source": [
    "election_data = os.path.join(\"Resources/election_data.csv\")"
   ]
  },
  {
   "cell_type": "code",
   "execution_count": 81,
   "id": "5204a5d9",
   "metadata": {},
   "outputs": [],
   "source": [
    "total_votes=0\n",
    "cand_opt = []\n",
    "candidate_vote_percentage = []\n",
    "total_votes_candidates = {}\n",
    "winning_candidate=\"\"\n",
    "winning_count=0\n",
    "winning_percentage=0"
   ]
  },
  {
   "cell_type": "code",
   "execution_count": 82,
   "id": "455580b6",
   "metadata": {},
   "outputs": [],
   "source": [
    "with open(election_data)as csvfile:\n",
    "    csvreader=csv.reader(csvfile, delimiter = \",\")\n",
    "\n",
    "    for row in csvreader:\n",
    "        total_votes += 1\n",
    "        candidate_name = row[2]\n",
    "        \n",
    "        if candidate_name not in cand_opt:\n",
    "            cand_opt.append(candidate_name)\n",
    "            \n",
    "            total_votes_candidates[candidate_name]=0\n",
    "            \n",
    "            total_votes_candidates[candidate_name] += 1"
   ]
  },
  {
   "cell_type": "code",
   "execution_count": 83,
   "id": "a37f90c3",
   "metadata": {},
   "outputs": [],
   "source": [
    "output_file = os.path.join(\"analysis\",\"election_analysis.txt\")"
   ]
  },
  {
   "cell_type": "code",
   "execution_count": 84,
   "id": "a0580417",
   "metadata": {},
   "outputs": [
    {
     "name": "stdout",
     "output_type": "stream",
     "text": [
      "Election Results\n",
      "---------------------\n",
      "Total Votes: 369712\n",
      "-------------------------\n"
     ]
    }
   ],
   "source": [
    "with open(output_file, \"w\")as txt_file:\n",
    "    election_results =(\n",
    "        f\"Election Results\\n\"\n",
    "        f\"---------------------\\n\"\n",
    "        f\"Total Votes: {total_votes:}\\n\"\n",
    "        f\"-------------------------\\n\"\n",
    "    )\n",
    "    \n",
    "    print(election_results, end=\"\")\n",
    "    "
   ]
  },
  {
   "cell_type": "code",
   "execution_count": 78,
   "id": "fc6e311e",
   "metadata": {},
   "outputs": [
    {
     "name": "stdout",
     "output_type": "stream",
     "text": [
      "Election Results\n",
      "---------------------\n",
      "Total Votes: 369712\n",
      "-------------------------\n",
      "Candidate:0.0%(1)\n",
      "\n"
     ]
    },
    {
     "ename": "NameError",
     "evalue": "name 'candiate_vote_percentage' is not defined",
     "output_type": "error",
     "traceback": [
      "\u001b[0;31m---------------------------------------------------------------------------\u001b[0m",
      "\u001b[0;31mNameError\u001b[0m                                 Traceback (most recent call last)",
      "\u001b[0;32m/var/folders/4y/bplz9gkx115983933b15hd8r0000gp/T/ipykernel_86304/2689577476.py\u001b[0m in \u001b[0;36m<module>\u001b[0;34m\u001b[0m\n\u001b[1;32m     19\u001b[0m         \u001b[0mtxt_file\u001b[0m\u001b[0;34m.\u001b[0m\u001b[0mwrite\u001b[0m\u001b[0;34m(\u001b[0m\u001b[0mcandidate_results\u001b[0m\u001b[0;34m)\u001b[0m\u001b[0;34m\u001b[0m\u001b[0;34m\u001b[0m\u001b[0m\n\u001b[1;32m     20\u001b[0m \u001b[0;34m\u001b[0m\u001b[0m\n\u001b[0;32m---> 21\u001b[0;31m         \u001b[0;32mif\u001b[0m \u001b[0;34m(\u001b[0m\u001b[0mvotes\u001b[0m \u001b[0;34m>\u001b[0m \u001b[0mwinning_count\u001b[0m\u001b[0;34m)\u001b[0m \u001b[0;32mand\u001b[0m \u001b[0;34m(\u001b[0m\u001b[0mcandiate_vote_percentage\u001b[0m \u001b[0;34m>\u001b[0m \u001b[0mwinning_percentage\u001b[0m\u001b[0;34m)\u001b[0m\u001b[0;34m:\u001b[0m\u001b[0;34m\u001b[0m\u001b[0;34m\u001b[0m\u001b[0m\n\u001b[0m\u001b[1;32m     22\u001b[0m             \u001b[0mwinning_counts\u001b[0m \u001b[0;34m=\u001b[0m \u001b[0mvotes\u001b[0m\u001b[0;34m\u001b[0m\u001b[0;34m\u001b[0m\u001b[0m\n\u001b[1;32m     23\u001b[0m             \u001b[0mwinning_candidate\u001b[0m \u001b[0;34m=\u001b[0m \u001b[0mcandidate_name\u001b[0m\u001b[0;34m\u001b[0m\u001b[0;34m\u001b[0m\u001b[0m\n",
      "\u001b[0;31mNameError\u001b[0m: name 'candiate_vote_percentage' is not defined"
     ]
    }
   ],
   "source": [
    "with open(output_file, \"w\")as txt_file:\n",
    "    election_results =(\n",
    "        f\"Election Results\\n\"\n",
    "        f\"---------------------\\n\"\n",
    "        f\"Total Votes: {total_votes:}\\n\"\n",
    "        f\"-------------------------\\n\"\n",
    "    )\n",
    "    \n",
    "    print(election_results, end=\"\")\n",
    "    \n",
    "    txt_file.write(election_results)\n",
    "    for candidate_name in total_votes_candidates:\n",
    "        votes=total_votes_candidates[candidate_name]\n",
    "        candidate_vote_percentage=float(votes)/float(total_votes)*100\n",
    "        candidate_results=f\"{candidate_name}:{candidate_vote_percentage:.1f}%({votes:})\\n\"\n",
    "        \n",
    "        print(candidate_results)\n",
    "        \n",
    "        txt_file.write(candidate_results)\n",
    "        \n",
    "        if (votes > winning_count) and (candiate_vote_percentage > winning_percentage):\n",
    "            winning_counts = votes\n",
    "            winning_candidate = candidate_name\n",
    "            winning_percentage = candidate_vote_percentage\n",
    "            \n",
    "            winning_candidate_summary= (\n",
    "                f\"---------------------\\n\"  \n",
    "                f\"Winner: {winning_candidate}\\n\"\n",
    "                f\"Winning Vote Count:{winning_count:}\\n\"\n",
    "                f\"Winning Percentage:{winning_percentage:.1f}%\\n\"\n",
    "                f\"-------------------------\\n\"\n",
    "            )\n",
    "            \n",
    "            print(winning_candidate_summary)\n",
    "            txt_file.write(winning_candidate_summary)"
   ]
  },
  {
   "cell_type": "code",
   "execution_count": null,
   "id": "24ac6693",
   "metadata": {},
   "outputs": [],
   "source": []
  },
  {
   "cell_type": "code",
   "execution_count": null,
   "id": "d89c8ce1",
   "metadata": {},
   "outputs": [],
   "source": []
  }
 ],
 "metadata": {
  "kernelspec": {
   "display_name": "Python 3 (ipykernel)",
   "language": "python",
   "name": "python3"
  },
  "language_info": {
   "codemirror_mode": {
    "name": "ipython",
    "version": 3
   },
   "file_extension": ".py",
   "mimetype": "text/x-python",
   "name": "python",
   "nbconvert_exporter": "python",
   "pygments_lexer": "ipython3",
   "version": "3.9.13"
  }
 },
 "nbformat": 4,
 "nbformat_minor": 5
}
